{
 "cells": [
  {
   "cell_type": "code",
   "execution_count": 1,
   "metadata": {},
   "outputs": [],
   "source": [
    "## references: \n",
    "#1 : https://dmol.pub/ml/introduction.html"
   ]
  },
  {
   "cell_type": "code",
   "execution_count": 2,
   "metadata": {},
   "outputs": [],
   "source": [
    "import os\n",
    "import numpy as np\n",
    "import pandas as pd\n",
    "\n",
    "import seaborn as sns\n",
    "import matplotlib.pyplot as plt\n",
    "from tqdm import tqdm\n",
    "\n",
    "import rdkit\n",
    "from rdkit import Chem\n",
    "from rdkit.Chem import Descriptors\n",
    "from rdkit.Chem import AllChem\n",
    "from rdkit.Chem import Draw\n",
    "from rdkit.Chem.Draw import IPythonConsole\n",
    "from rdkit.Chem import PandasTools\n",
    "from rdkit.Chem.rdReducedGraphs import GetErGFingerprint\n",
    "from rdkit.ML.Descriptors.MoleculeDescriptors import MolecularDescriptorCalculator\n",
    "\n",
    "from sklearn.model_selection import train_test_split\n",
    "from sklearn.linear_model import LinearRegression\n",
    "from sklearn.svm import SVR\n",
    "from sklearn.ensemble import RandomForestRegressor\n",
    "# from xgboost import XGBRegressor\n",
    "\n",
    "from sklearn.model_selection import GridSearchCV\n",
    "from sklearn.model_selection import cross_val_score\n",
    "from sklearn.model_selection import KFold\n",
    "from sklearn.metrics import mean_absolute_error, mean_squared_error, r2_score\n",
    "\n",
    "from sklearn.impute import SimpleImputer\n",
    "from sklearn.preprocessing import StandardScaler\n",
    "\n"
   ]
  },
  {
   "cell_type": "code",
   "execution_count": 3,
   "metadata": {},
   "outputs": [
    {
     "name": "stdout",
     "output_type": "stream",
     "text": [
      "(9982, 26)\n"
     ]
    },
    {
     "data": {
      "text/html": [
       "<div>\n",
       "<style scoped>\n",
       "    .dataframe tbody tr th:only-of-type {\n",
       "        vertical-align: middle;\n",
       "    }\n",
       "\n",
       "    .dataframe tbody tr th {\n",
       "        vertical-align: top;\n",
       "    }\n",
       "\n",
       "    .dataframe thead th {\n",
       "        text-align: right;\n",
       "    }\n",
       "</style>\n",
       "<table border=\"1\" class=\"dataframe\">\n",
       "  <thead>\n",
       "    <tr style=\"text-align: right;\">\n",
       "      <th></th>\n",
       "      <th>ID</th>\n",
       "      <th>Name</th>\n",
       "      <th>InChI</th>\n",
       "      <th>InChIKey</th>\n",
       "      <th>SMILES</th>\n",
       "      <th>Solubility</th>\n",
       "      <th>SD</th>\n",
       "      <th>Ocurrences</th>\n",
       "      <th>Group</th>\n",
       "      <th>MolWt</th>\n",
       "      <th>...</th>\n",
       "      <th>NumRotatableBonds</th>\n",
       "      <th>NumValenceElectrons</th>\n",
       "      <th>NumAromaticRings</th>\n",
       "      <th>NumSaturatedRings</th>\n",
       "      <th>NumAliphaticRings</th>\n",
       "      <th>RingCount</th>\n",
       "      <th>TPSA</th>\n",
       "      <th>LabuteASA</th>\n",
       "      <th>BalabanJ</th>\n",
       "      <th>BertzCT</th>\n",
       "    </tr>\n",
       "  </thead>\n",
       "  <tbody>\n",
       "    <tr>\n",
       "      <th>0</th>\n",
       "      <td>A-3</td>\n",
       "      <td>N,N,N-trimethyloctadecan-1-aminium bromide</td>\n",
       "      <td>InChI=1S/C21H46N.BrH/c1-5-6-7-8-9-10-11-12-13-...</td>\n",
       "      <td>SZEMGTQCPRNXEG-UHFFFAOYSA-M</td>\n",
       "      <td>[Br-].CCCCCCCCCCCCCCCCCC[N+](C)(C)C</td>\n",
       "      <td>-3.616127</td>\n",
       "      <td>0.0</td>\n",
       "      <td>1</td>\n",
       "      <td>G1</td>\n",
       "      <td>392.510</td>\n",
       "      <td>...</td>\n",
       "      <td>17.0</td>\n",
       "      <td>142.0</td>\n",
       "      <td>0.0</td>\n",
       "      <td>0.0</td>\n",
       "      <td>0.0</td>\n",
       "      <td>0.0</td>\n",
       "      <td>0.00</td>\n",
       "      <td>158.520601</td>\n",
       "      <td>0.000000e+00</td>\n",
       "      <td>210.377334</td>\n",
       "    </tr>\n",
       "    <tr>\n",
       "      <th>1</th>\n",
       "      <td>A-4</td>\n",
       "      <td>Benzo[cd]indol-2(1H)-one</td>\n",
       "      <td>InChI=1S/C11H7NO/c13-11-8-5-1-3-7-4-2-6-9(12-1...</td>\n",
       "      <td>GPYLCFQEKPUWLD-UHFFFAOYSA-N</td>\n",
       "      <td>O=C1Nc2cccc3cccc1c23</td>\n",
       "      <td>-3.254767</td>\n",
       "      <td>0.0</td>\n",
       "      <td>1</td>\n",
       "      <td>G1</td>\n",
       "      <td>169.183</td>\n",
       "      <td>...</td>\n",
       "      <td>0.0</td>\n",
       "      <td>62.0</td>\n",
       "      <td>2.0</td>\n",
       "      <td>0.0</td>\n",
       "      <td>1.0</td>\n",
       "      <td>3.0</td>\n",
       "      <td>29.10</td>\n",
       "      <td>75.183563</td>\n",
       "      <td>2.582996e+00</td>\n",
       "      <td>511.229248</td>\n",
       "    </tr>\n",
       "    <tr>\n",
       "      <th>2</th>\n",
       "      <td>A-5</td>\n",
       "      <td>4-chlorobenzaldehyde</td>\n",
       "      <td>InChI=1S/C7H5ClO/c8-7-3-1-6(5-9)2-4-7/h1-5H</td>\n",
       "      <td>AVPYQKSLYISFPO-UHFFFAOYSA-N</td>\n",
       "      <td>Clc1ccc(C=O)cc1</td>\n",
       "      <td>-2.177078</td>\n",
       "      <td>0.0</td>\n",
       "      <td>1</td>\n",
       "      <td>G1</td>\n",
       "      <td>140.569</td>\n",
       "      <td>...</td>\n",
       "      <td>1.0</td>\n",
       "      <td>46.0</td>\n",
       "      <td>1.0</td>\n",
       "      <td>0.0</td>\n",
       "      <td>0.0</td>\n",
       "      <td>1.0</td>\n",
       "      <td>17.07</td>\n",
       "      <td>58.261134</td>\n",
       "      <td>3.009782e+00</td>\n",
       "      <td>202.661065</td>\n",
       "    </tr>\n",
       "    <tr>\n",
       "      <th>3</th>\n",
       "      <td>A-8</td>\n",
       "      <td>zinc bis[2-hydroxy-3,5-bis(1-phenylethyl)benzo...</td>\n",
       "      <td>InChI=1S/2C23H22O3.Zn/c2*1-15(17-9-5-3-6-10-17...</td>\n",
       "      <td>XTUPUYCJWKHGSW-UHFFFAOYSA-L</td>\n",
       "      <td>[Zn++].CC(c1ccccc1)c2cc(C(C)c3ccccc3)c(O)c(c2)...</td>\n",
       "      <td>-3.924409</td>\n",
       "      <td>0.0</td>\n",
       "      <td>1</td>\n",
       "      <td>G1</td>\n",
       "      <td>756.226</td>\n",
       "      <td>...</td>\n",
       "      <td>10.0</td>\n",
       "      <td>264.0</td>\n",
       "      <td>6.0</td>\n",
       "      <td>0.0</td>\n",
       "      <td>0.0</td>\n",
       "      <td>6.0</td>\n",
       "      <td>120.72</td>\n",
       "      <td>323.755434</td>\n",
       "      <td>2.322963e-07</td>\n",
       "      <td>1964.648666</td>\n",
       "    </tr>\n",
       "    <tr>\n",
       "      <th>4</th>\n",
       "      <td>A-9</td>\n",
       "      <td>4-({4-[bis(oxiran-2-ylmethyl)amino]phenyl}meth...</td>\n",
       "      <td>InChI=1S/C25H30N2O4/c1-5-20(26(10-22-14-28-22)...</td>\n",
       "      <td>FAUAZXVRLVIARB-UHFFFAOYSA-N</td>\n",
       "      <td>C1OC1CN(CC2CO2)c3ccc(Cc4ccc(cc4)N(CC5CO5)CC6CO...</td>\n",
       "      <td>-4.662065</td>\n",
       "      <td>0.0</td>\n",
       "      <td>1</td>\n",
       "      <td>G1</td>\n",
       "      <td>422.525</td>\n",
       "      <td>...</td>\n",
       "      <td>12.0</td>\n",
       "      <td>164.0</td>\n",
       "      <td>2.0</td>\n",
       "      <td>4.0</td>\n",
       "      <td>4.0</td>\n",
       "      <td>6.0</td>\n",
       "      <td>56.60</td>\n",
       "      <td>183.183268</td>\n",
       "      <td>1.084427e+00</td>\n",
       "      <td>769.899934</td>\n",
       "    </tr>\n",
       "  </tbody>\n",
       "</table>\n",
       "<p>5 rows × 26 columns</p>\n",
       "</div>"
      ],
      "text/plain": [
       "    ID                                               Name  \\\n",
       "0  A-3         N,N,N-trimethyloctadecan-1-aminium bromide   \n",
       "1  A-4                           Benzo[cd]indol-2(1H)-one   \n",
       "2  A-5                               4-chlorobenzaldehyde   \n",
       "3  A-8  zinc bis[2-hydroxy-3,5-bis(1-phenylethyl)benzo...   \n",
       "4  A-9  4-({4-[bis(oxiran-2-ylmethyl)amino]phenyl}meth...   \n",
       "\n",
       "                                               InChI  \\\n",
       "0  InChI=1S/C21H46N.BrH/c1-5-6-7-8-9-10-11-12-13-...   \n",
       "1  InChI=1S/C11H7NO/c13-11-8-5-1-3-7-4-2-6-9(12-1...   \n",
       "2        InChI=1S/C7H5ClO/c8-7-3-1-6(5-9)2-4-7/h1-5H   \n",
       "3  InChI=1S/2C23H22O3.Zn/c2*1-15(17-9-5-3-6-10-17...   \n",
       "4  InChI=1S/C25H30N2O4/c1-5-20(26(10-22-14-28-22)...   \n",
       "\n",
       "                      InChIKey  \\\n",
       "0  SZEMGTQCPRNXEG-UHFFFAOYSA-M   \n",
       "1  GPYLCFQEKPUWLD-UHFFFAOYSA-N   \n",
       "2  AVPYQKSLYISFPO-UHFFFAOYSA-N   \n",
       "3  XTUPUYCJWKHGSW-UHFFFAOYSA-L   \n",
       "4  FAUAZXVRLVIARB-UHFFFAOYSA-N   \n",
       "\n",
       "                                              SMILES  Solubility   SD  \\\n",
       "0                [Br-].CCCCCCCCCCCCCCCCCC[N+](C)(C)C   -3.616127  0.0   \n",
       "1                               O=C1Nc2cccc3cccc1c23   -3.254767  0.0   \n",
       "2                                    Clc1ccc(C=O)cc1   -2.177078  0.0   \n",
       "3  [Zn++].CC(c1ccccc1)c2cc(C(C)c3ccccc3)c(O)c(c2)...   -3.924409  0.0   \n",
       "4  C1OC1CN(CC2CO2)c3ccc(Cc4ccc(cc4)N(CC5CO5)CC6CO...   -4.662065  0.0   \n",
       "\n",
       "   Ocurrences Group    MolWt  ...  NumRotatableBonds  NumValenceElectrons  \\\n",
       "0           1    G1  392.510  ...               17.0                142.0   \n",
       "1           1    G1  169.183  ...                0.0                 62.0   \n",
       "2           1    G1  140.569  ...                1.0                 46.0   \n",
       "3           1    G1  756.226  ...               10.0                264.0   \n",
       "4           1    G1  422.525  ...               12.0                164.0   \n",
       "\n",
       "   NumAromaticRings  NumSaturatedRings  NumAliphaticRings  RingCount    TPSA  \\\n",
       "0               0.0                0.0                0.0        0.0    0.00   \n",
       "1               2.0                0.0                1.0        3.0   29.10   \n",
       "2               1.0                0.0                0.0        1.0   17.07   \n",
       "3               6.0                0.0                0.0        6.0  120.72   \n",
       "4               2.0                4.0                4.0        6.0   56.60   \n",
       "\n",
       "    LabuteASA      BalabanJ      BertzCT  \n",
       "0  158.520601  0.000000e+00   210.377334  \n",
       "1   75.183563  2.582996e+00   511.229248  \n",
       "2   58.261134  3.009782e+00   202.661065  \n",
       "3  323.755434  2.322963e-07  1964.648666  \n",
       "4  183.183268  1.084427e+00   769.899934  \n",
       "\n",
       "[5 rows x 26 columns]"
      ]
     },
     "execution_count": 3,
     "metadata": {},
     "output_type": "execute_result"
    }
   ],
   "source": [
    "soldata = pd.read_csv(\n",
    "    \"https://github.com/whitead/dmol-book/raw/main/data/curated-solubility-dataset.csv\"\n",
    ")\n",
    "os.makedirs('./data', exist_ok=True)\n",
    "soldata.to_csv('./data/curated-solubility-dataset.csv')\n",
    "print(soldata.shape)\n",
    "\n",
    "soldata.head(5)"
   ]
  },
  {
   "cell_type": "code",
   "execution_count": 4,
   "metadata": {},
   "outputs": [
    {
     "name": "stdout",
     "output_type": "stream",
     "text": [
      "vinyl 2-ethylhexanoate\n",
      "CCCCC(CC)C(=O)OC=C\n",
      "solubility: -4.1519109764\n"
     ]
    },
    {
     "data": {
      "image/png": "[encoded data removed]",
      "text/plain": [
       "<rdkit.Chem.rdchem.Mol at 0x7f27df4bde40>"
      ]
     },
     "execution_count": 4,
     "metadata": {},
     "output_type": "execute_result"
    }
   ],
   "source": [
    "i = 100\n",
    "\n",
    "mol = rdkit.Chem.MolFromInchi(soldata.InChI[i])\n",
    "print(soldata[\"Name\"][i])\n",
    "print(soldata[\"SMILES\"][i])\n",
    "print(f\"solubility: {soldata['Solubility'][i]}\")\n",
    "mol"
   ]
  },
  {
   "cell_type": "code",
   "execution_count": 5,
   "metadata": {},
   "outputs": [
    {
     "name": "stdout",
     "output_type": "stream",
     "text": [
      "Molecular weight: 170.25199999999998\n"
     ]
    }
   ],
   "source": [
    "mw = rdkit.Chem.Descriptors.MolWt(mol)\n",
    "print(f\"Molecular weight: {mw}\")"
   ]
  },
  {
   "cell_type": "code",
   "execution_count": 6,
   "metadata": {},
   "outputs": [],
   "source": [
    "\n",
    "def calculate_fp(mol_list, method='ecfp4', n_bits=2048):\n",
    "    fp_list = []\n",
    "    # mol = Chem molecule object\n",
    "    # Function to calculate molecular fingerprints given the number of bits and the method\n",
    "    for mol in tqdm(mol_list):\n",
    "        if method == 'maccs':\n",
    "            fp = Chem.MACCSkeys.GenMACCSKeys(mol)\n",
    "        if method == 'ecfp4':\n",
    "            fp = AllChem.GetMorganFingerprintAsBitVect(mol, 2, nBits=n_bits, useFeatures=False)\n",
    "        if method == 'ecfp6':\n",
    "            fp = AllChem.GetMorganFingerprintAsBitVect(mol, 3, nBits=n_bits, useFeatures=False)\n",
    "        if method == 'torsion':\n",
    "            fp = AllChem.GetHashedTopologicalTorsionFingerprintAsBitVect(mol, nBits=n_bits)\n",
    "        if method == 'rdk5':\n",
    "            fp = AllChem.RDKFingerprint(mol, maxPath=5, fpSize=1024, nBitsPerHash=2)\n",
    "        if method == 'hashtopol':\n",
    "            fp = AllChem.GetHashedTopologicalTorsionFingerprintAsBitVect(mol, nBits=n_bits)\n",
    "        if method == 'layer':\n",
    "            fp = AllChem.LayeredFingerprint(mol)\n",
    "        if method == 'pattern':\n",
    "            fp = AllChem.PatternFingerprint(mol)\n",
    "        if method == 'ErG':\n",
    "            fp = GetErGFingerprint(mol)\n",
    "        fp_list.append(np.array(fp))\n",
    "    \n",
    "    fp_arr = np.array(fp_list)\n",
    "\n",
    "    return fp_arr"
   ]
  },
  {
   "cell_type": "code",
   "execution_count": 7,
   "metadata": {},
   "outputs": [],
   "source": [
    "def RDkit_descriptors_2D(mol_list, desc_list):\n",
    "    # simple_list = ['TPSA']\n",
    "    calculator = MolecularDescriptorCalculator(desc_list)\n",
    "    des_list = []\n",
    "    for mol in tqdm(mol_list):\n",
    "        des = np.array(calculator.CalcDescriptors(mol))\n",
    "        des_list.append(des)\n",
    "    des_arr = np.array(des_list)\n",
    "    des_arr[des_arr == np.inf] = np.nan\n",
    "    imp = SimpleImputer(missing_values=np.nan, strategy='median')\n",
    "    des_arr = imp.fit_transform(des_arr)\n",
    "    return des_arr"
   ]
  },
  {
   "cell_type": "code",
   "execution_count": 8,
   "metadata": {},
   "outputs": [
    {
     "data": {
      "text/html": [
       "<div>\n",
       "<style scoped>\n",
       "    .dataframe tbody tr th:only-of-type {\n",
       "        vertical-align: middle;\n",
       "    }\n",
       "\n",
       "    .dataframe tbody tr th {\n",
       "        vertical-align: top;\n",
       "    }\n",
       "\n",
       "    .dataframe thead th {\n",
       "        text-align: right;\n",
       "    }\n",
       "</style>\n",
       "<table border=\"1\" class=\"dataframe\">\n",
       "  <thead>\n",
       "    <tr style=\"text-align: right;\">\n",
       "      <th></th>\n",
       "      <th>SMILES</th>\n",
       "      <th>Solubility</th>\n",
       "    </tr>\n",
       "  </thead>\n",
       "  <tbody>\n",
       "    <tr>\n",
       "      <th>0</th>\n",
       "      <td>[Br-].CCCCCCCCCCCCCCCCCC[N+](C)(C)C</td>\n",
       "      <td>-3.616127</td>\n",
       "    </tr>\n",
       "    <tr>\n",
       "      <th>1</th>\n",
       "      <td>O=C1Nc2cccc3cccc1c23</td>\n",
       "      <td>-3.254767</td>\n",
       "    </tr>\n",
       "    <tr>\n",
       "      <th>2</th>\n",
       "      <td>Clc1ccc(C=O)cc1</td>\n",
       "      <td>-2.177078</td>\n",
       "    </tr>\n",
       "    <tr>\n",
       "      <th>3</th>\n",
       "      <td>[Zn++].CC(c1ccccc1)c2cc(C(C)c3ccccc3)c(O)c(c2)...</td>\n",
       "      <td>-3.924409</td>\n",
       "    </tr>\n",
       "    <tr>\n",
       "      <th>4</th>\n",
       "      <td>C1OC1CN(CC2CO2)c3ccc(Cc4ccc(cc4)N(CC5CO5)CC6CO...</td>\n",
       "      <td>-4.662065</td>\n",
       "    </tr>\n",
       "    <tr>\n",
       "      <th>...</th>\n",
       "      <td>...</td>\n",
       "      <td>...</td>\n",
       "    </tr>\n",
       "    <tr>\n",
       "      <th>9977</th>\n",
       "      <td>C(c1ccc(cc1)NCCCC)(=O)OCCN(C)C</td>\n",
       "      <td>-3.010000</td>\n",
       "    </tr>\n",
       "    <tr>\n",
       "      <th>9978</th>\n",
       "      <td>OC1=C(C(C2=C(O)[C@@](C(C(C(N)=O)=C(O)[C@H]3N(C...</td>\n",
       "      <td>-2.930000</td>\n",
       "    </tr>\n",
       "    <tr>\n",
       "      <th>9979</th>\n",
       "      <td>c1(cc(ccc1C(C)C)C)O</td>\n",
       "      <td>-2.190000</td>\n",
       "    </tr>\n",
       "    <tr>\n",
       "      <th>9980</th>\n",
       "      <td>COc1ccc(CCN(C)CCCC(C#N)(C(C)C)c2ccc(OC)c(OC)c2...</td>\n",
       "      <td>-3.980000</td>\n",
       "    </tr>\n",
       "    <tr>\n",
       "      <th>9981</th>\n",
       "      <td>CC(=O)CC(c1ccccc1)c1c(O)c2ccccc2oc1=O</td>\n",
       "      <td>-4.780000</td>\n",
       "    </tr>\n",
       "  </tbody>\n",
       "</table>\n",
       "<p>9982 rows × 2 columns</p>\n",
       "</div>"
      ],
      "text/plain": [
       "                                                 SMILES  Solubility\n",
       "0                   [Br-].CCCCCCCCCCCCCCCCCC[N+](C)(C)C   -3.616127\n",
       "1                                  O=C1Nc2cccc3cccc1c23   -3.254767\n",
       "2                                       Clc1ccc(C=O)cc1   -2.177078\n",
       "3     [Zn++].CC(c1ccccc1)c2cc(C(C)c3ccccc3)c(O)c(c2)...   -3.924409\n",
       "4     C1OC1CN(CC2CO2)c3ccc(Cc4ccc(cc4)N(CC5CO5)CC6CO...   -4.662065\n",
       "...                                                 ...         ...\n",
       "9977                     C(c1ccc(cc1)NCCCC)(=O)OCCN(C)C   -3.010000\n",
       "9978  OC1=C(C(C2=C(O)[C@@](C(C(C(N)=O)=C(O)[C@H]3N(C...   -2.930000\n",
       "9979                                c1(cc(ccc1C(C)C)C)O   -2.190000\n",
       "9980  COc1ccc(CCN(C)CCCC(C#N)(C(C)C)c2ccc(OC)c(OC)c2...   -3.980000\n",
       "9981              CC(=O)CC(c1ccccc1)c1c(O)c2ccccc2oc1=O   -4.780000\n",
       "\n",
       "[9982 rows x 2 columns]"
      ]
     },
     "execution_count": 8,
     "metadata": {},
     "output_type": "execute_result"
    }
   ],
   "source": [
    "sol_smi_target = soldata[[\"SMILES\", \"Solubility\"]].copy()\n",
    "sol_smi_target"
   ]
  },
  {
   "cell_type": "code",
   "execution_count": 9,
   "metadata": {},
   "outputs": [],
   "source": [
    "len_data = len(sol_smi_target)\n",
    "idx_rand = np.random.permutation(len_data)\n",
    "n_train = int(0.8 * len(sol_smi_target))"
   ]
  },
  {
   "cell_type": "code",
   "execution_count": 10,
   "metadata": {},
   "outputs": [
    {
     "name": "stdout",
     "output_type": "stream",
     "text": [
      "[2653 3427  900 ... 3982 2061 4750]\n"
     ]
    }
   ],
   "source": [
    "print(idx_rand[:n_train])"
   ]
  },
  {
   "cell_type": "code",
   "execution_count": 11,
   "metadata": {},
   "outputs": [],
   "source": [
    "train_data = sol_smi_target.iloc[idx_rand[:n_train]]\n",
    "test_data = sol_smi_target.iloc[idx_rand[n_train:]]"
   ]
  },
  {
   "cell_type": "code",
   "execution_count": 12,
   "metadata": {},
   "outputs": [
    {
     "name": "stdout",
     "output_type": "stream",
     "text": [
      "(7985, 2) (1997, 2)\n"
     ]
    }
   ],
   "source": [
    "print(train_data.shape, test_data.shape)"
   ]
  },
  {
   "cell_type": "code",
   "execution_count": 13,
   "metadata": {},
   "outputs": [],
   "source": [
    "train_smi_list = train_data.SMILES.values\n",
    "test_smi_list = test_data.SMILES.values"
   ]
  },
  {
   "cell_type": "code",
   "execution_count": 14,
   "metadata": {},
   "outputs": [
    {
     "name": "stderr",
     "output_type": "stream",
     "text": [
      "[15:09:11] WARNING: not removing hydrogen atom without neighbors\n",
      "[15:09:11] WARNING: not removing hydrogen atom without neighbors\n",
      "[15:09:11] WARNING: not removing hydrogen atom without neighbors\n",
      "[15:09:11] WARNING: not removing hydrogen atom without neighbors\n",
      "[15:09:11] WARNING: not removing hydrogen atom without neighbors\n",
      "[15:09:11] WARNING: not removing hydrogen atom without neighbors\n",
      "[15:09:11] WARNING: not removing hydrogen atom without neighbors\n",
      "[15:09:11] WARNING: not removing hydrogen atom without neighbors\n",
      "[15:09:11] WARNING: not removing hydrogen atom without neighbors\n",
      "[15:09:11] WARNING: not removing hydrogen atom without neighbors\n",
      "[15:09:11] WARNING: not removing hydrogen atom without neighbors\n",
      "[15:09:11] WARNING: not removing hydrogen atom without neighbors\n",
      "[15:09:11] WARNING: not removing hydrogen atom without neighbors\n",
      "[15:09:11] WARNING: not removing hydrogen atom without neighbors\n",
      "[15:09:11] WARNING: not removing hydrogen atom without neighbors\n",
      "[15:09:11] WARNING: not removing hydrogen atom without neighbors\n",
      "[15:09:11] WARNING: not removing hydrogen atom without neighbors\n",
      "[15:09:11] WARNING: not removing hydrogen atom without neighbors\n",
      "[15:09:11] WARNING: not removing hydrogen atom without neighbors\n",
      "[15:09:11] WARNING: not removing hydrogen atom without neighbors\n",
      "[15:09:11] WARNING: not removing hydrogen atom without neighbors\n",
      "[15:09:11] WARNING: not removing hydrogen atom without neighbors\n",
      "[15:09:11] WARNING: not removing hydrogen atom without neighbors\n",
      "[15:09:11] WARNING: not removing hydrogen atom without neighbors\n",
      "[15:09:11] WARNING: not removing hydrogen atom without neighbors\n",
      "[15:09:11] WARNING: not removing hydrogen atom without neighbors\n",
      "[15:09:11] WARNING: not removing hydrogen atom without neighbors\n",
      "[15:09:11] WARNING: not removing hydrogen atom without neighbors\n",
      "[15:09:11] WARNING: not removing hydrogen atom without neighbors\n",
      "[15:09:11] WARNING: not removing hydrogen atom without neighbors\n",
      "[15:09:11] WARNING: not removing hydrogen atom without neighbors\n",
      "[15:09:11] WARNING: not removing hydrogen atom without neighbors\n",
      "[15:09:11] WARNING: not removing hydrogen atom without neighbors\n",
      "[15:09:11] WARNING: not removing hydrogen atom without neighbors\n",
      "[15:09:11] WARNING: not removing hydrogen atom without neighbors\n",
      "[15:09:11] WARNING: not removing hydrogen atom without neighbors\n",
      "[15:09:11] WARNING: not removing hydrogen atom without neighbors\n",
      "[15:09:11] WARNING: not removing hydrogen atom without neighbors\n",
      "[15:09:11] WARNING: not removing hydrogen atom without neighbors\n",
      "[15:09:11] WARNING: not removing hydrogen atom without neighbors\n",
      "[15:09:11] WARNING: not removing hydrogen atom without neighbors\n",
      "[15:09:11] WARNING: not removing hydrogen atom without neighbors\n",
      "[15:09:11] WARNING: not removing hydrogen atom without neighbors\n",
      "[15:09:11] WARNING: not removing hydrogen atom without neighbors\n",
      "[15:09:11] WARNING: not removing hydrogen atom without neighbors\n",
      "[15:09:11] WARNING: not removing hydrogen atom without neighbors\n",
      "[15:09:11] WARNING: not removing hydrogen atom without neighbors\n",
      "[15:09:11] WARNING: not removing hydrogen atom without neighbors\n",
      "[15:09:11] WARNING: not removing hydrogen atom without neighbors\n",
      "[15:09:11] WARNING: not removing hydrogen atom without neighbors\n",
      "[15:09:11] WARNING: not removing hydrogen atom without neighbors\n",
      "[15:09:11] WARNING: not removing hydrogen atom without neighbors\n",
      "[15:09:11] WARNING: not removing hydrogen atom without neighbors\n",
      "[15:09:11] WARNING: not removing hydrogen atom without neighbors\n",
      "[15:09:11] WARNING: not removing hydrogen atom without neighbors\n",
      "[15:09:11] WARNING: not removing hydrogen atom without neighbors\n",
      "[15:09:11] WARNING: not removing hydrogen atom without neighbors\n",
      "[15:09:11] WARNING: not removing hydrogen atom without neighbors\n",
      "[15:09:12] WARNING: not removing hydrogen atom without neighbors\n",
      "[15:09:12] WARNING: not removing hydrogen atom without neighbors\n",
      "[15:09:12] WARNING: not removing hydrogen atom without neighbors\n",
      "[15:09:12] WARNING: not removing hydrogen atom without neighbors\n",
      "[15:09:12] WARNING: not removing hydrogen atom without neighbors\n",
      "[15:09:12] WARNING: not removing hydrogen atom without neighbors\n",
      "[15:09:12] WARNING: not removing hydrogen atom without neighbors\n"
     ]
    }
   ],
   "source": [
    "train_mol_list = [Chem.MolFromSmiles(smi) for smi in train_smi_list]\n",
    "test_mol_list = [Chem.MolFromSmiles(smi) for smi in test_smi_list]"
   ]
  },
  {
   "cell_type": "code",
   "execution_count": 15,
   "metadata": {},
   "outputs": [
    {
     "data": {
      "image/png": "[encoded data removed]",
      "text/plain": [
       "<rdkit.Chem.rdchem.Mol at 0x7f27df4e8900>"
      ]
     },
     "execution_count": 15,
     "metadata": {},
     "output_type": "execute_result"
    }
   ],
   "source": [
    "train_mol_list[0]"
   ]
  },
  {
   "cell_type": "code",
   "execution_count": 16,
   "metadata": {},
   "outputs": [],
   "source": [
    "desc_list = [desc[0] for desc in Descriptors.descList]\n"
   ]
  },
  {
   "cell_type": "code",
   "execution_count": 17,
   "metadata": {},
   "outputs": [],
   "source": [
    "# !rm -rf ./dataset"
   ]
  },
  {
   "cell_type": "code",
   "execution_count": 18,
   "metadata": {},
   "outputs": [
    {
     "name": "stderr",
     "output_type": "stream",
     "text": [
      "  0%|          | 39/7985 [00:00<00:44, 178.26it/s][15:09:12] WARNING: not removing hydrogen atom without neighbors\n",
      "[15:09:12] WARNING: not removing hydrogen atom without neighbors\n",
      "  5%|▍         | 386/7985 [00:01<00:36, 210.02it/s][15:09:14] WARNING: not removing hydrogen atom without neighbors\n",
      "[15:09:14] WARNING: not removing hydrogen atom without neighbors\n",
      "  9%|▉         | 733/7985 [00:03<00:36, 196.32it/s][15:09:15] WARNING: not removing hydrogen atom without neighbors\n",
      "[15:09:15] WARNING: not removing hydrogen atom without neighbors\n",
      "[15:09:15] WARNING: not removing hydrogen atom without neighbors\n",
      "[15:09:15] WARNING: not removing hydrogen atom without neighbors\n",
      "[15:09:15] WARNING: not removing hydrogen atom without neighbors\n",
      "[15:09:15] WARNING: not removing hydrogen atom without neighbors\n",
      "[15:09:15] WARNING: not removing hydrogen atom without neighbors\n",
      "[15:09:15] WARNING: not removing hydrogen atom without neighbors\n",
      "[15:09:15] WARNING: not removing hydrogen atom without neighbors\n",
      " 12%|█▏        | 929/7985 [00:04<00:30, 231.16it/s][15:09:16] WARNING: not removing hydrogen atom without neighbors\n",
      "[15:09:16] WARNING: not removing hydrogen atom without neighbors\n",
      " 12%|█▏        | 953/7985 [00:04<00:30, 227.12it/s][15:09:16] WARNING: not removing hydrogen atom without neighbors\n",
      "[15:09:16] WARNING: not removing hydrogen atom without neighbors\n",
      "[15:09:16] WARNING: not removing hydrogen atom without neighbors\n",
      "[15:09:16] WARNING: not removing hydrogen atom without neighbors\n",
      " 13%|█▎        | 1003/7985 [00:04<00:31, 221.01it/s][15:09:17] WARNING: not removing hydrogen atom without neighbors\n",
      "[15:09:17] WARNING: not removing hydrogen atom without neighbors\n",
      " 17%|█▋        | 1375/7985 [00:06<00:35, 183.83it/s][15:09:18] WARNING: not removing hydrogen atom without neighbors\n",
      "[15:09:18] WARNING: not removing hydrogen atom without neighbors\n",
      " 18%|█▊        | 1404/7985 [00:06<00:31, 208.18it/s][15:09:18] WARNING: not removing hydrogen atom without neighbors\n",
      "[15:09:18] WARNING: not removing hydrogen atom without neighbors\n",
      " 20%|█▉        | 1595/7985 [00:07<00:29, 215.91it/s][15:09:19] WARNING: not removing hydrogen atom without neighbors\n",
      "[15:09:19] WARNING: not removing hydrogen atom without neighbors\n",
      "[15:09:19] WARNING: not removing hydrogen atom without neighbors\n",
      "[15:09:19] WARNING: not removing hydrogen atom without neighbors\n",
      "[15:09:19] WARNING: not removing hydrogen atom without neighbors\n",
      "[15:09:19] WARNING: not removing hydrogen atom without neighbors\n",
      "[15:09:19] WARNING: not removing hydrogen atom without neighbors\n",
      "[15:09:19] WARNING: not removing hydrogen atom without neighbors\n",
      "[15:09:19] WARNING: not removing hydrogen atom without neighbors\n",
      " 30%|██▉       | 2356/7985 [00:11<00:23, 237.72it/s][15:09:23] WARNING: not removing hydrogen atom without neighbors\n",
      "[15:09:23] WARNING: not removing hydrogen atom without neighbors\n",
      " 33%|███▎      | 2637/7985 [00:12<00:22, 239.76it/s][15:09:24] WARNING: not removing hydrogen atom without neighbors\n",
      "[15:09:24] WARNING: not removing hydrogen atom without neighbors\n",
      "[15:09:24] WARNING: not removing hydrogen atom without neighbors\n",
      "[15:09:24] WARNING: not removing hydrogen atom without neighbors\n",
      "[15:09:24] WARNING: not removing hydrogen atom without neighbors\n",
      "[15:09:24] WARNING: not removing hydrogen atom without neighbors\n",
      "[15:09:24] WARNING: not removing hydrogen atom without neighbors\n",
      "[15:09:24] WARNING: not removing hydrogen atom without neighbors\n",
      "[15:09:24] WARNING: not removing hydrogen atom without neighbors\n",
      "[15:09:24] WARNING: not removing hydrogen atom without neighbors\n",
      "[15:09:24] WARNING: not removing hydrogen atom without neighbors\n",
      "[15:09:24] WARNING: not removing hydrogen atom without neighbors\n",
      "[15:09:24] WARNING: not removing hydrogen atom without neighbors\n",
      "[15:09:24] WARNING: not removing hydrogen atom without neighbors\n",
      "[15:09:24] WARNING: not removing hydrogen atom without neighbors\n",
      "[15:09:24] WARNING: not removing hydrogen atom without neighbors\n",
      "[15:09:24] WARNING: not removing hydrogen atom without neighbors\n",
      "[15:09:24] WARNING: not removing hydrogen atom without neighbors\n",
      " 35%|███▌      | 2815/7985 [00:13<00:29, 177.86it/s][15:09:25] WARNING: not removing hydrogen atom without neighbors\n",
      "[15:09:25] WARNING: not removing hydrogen atom without neighbors\n",
      " 37%|███▋      | 2991/7985 [00:14<00:21, 235.95it/s][15:09:26] WARNING: not removing hydrogen atom without neighbors\n",
      "[15:09:26] WARNING: not removing hydrogen atom without neighbors\n",
      " 40%|████      | 3225/7985 [00:15<00:21, 218.71it/s][15:09:27] WARNING: not removing hydrogen atom without neighbors\n",
      "[15:09:27] WARNING: not removing hydrogen atom without neighbors\n",
      " 42%|████▏     | 3390/7985 [00:15<00:21, 218.19it/s][15:09:28] WARNING: not removing hydrogen atom without neighbors\n",
      "[15:09:28] WARNING: not removing hydrogen atom without neighbors\n",
      "[15:09:28] WARNING: not removing hydrogen atom without neighbors\n",
      "[15:09:28] WARNING: not removing hydrogen atom without neighbors\n",
      "[15:09:28] WARNING: not removing hydrogen atom without neighbors\n",
      "[15:09:28] WARNING: not removing hydrogen atom without neighbors\n",
      "[15:09:28] WARNING: not removing hydrogen atom without neighbors\n",
      "[15:09:28] WARNING: not removing hydrogen atom without neighbors\n",
      "[15:09:28] WARNING: not removing hydrogen atom without neighbors\n",
      " 45%|████▌     | 3633/7985 [00:17<00:17, 249.11it/s][15:09:29] WARNING: not removing hydrogen atom without neighbors\n",
      "[15:09:29] WARNING: not removing hydrogen atom without neighbors\n",
      " 47%|████▋     | 3733/7985 [00:17<00:17, 237.27it/s][15:09:29] WARNING: not removing hydrogen atom without neighbors\n",
      "[15:09:29] WARNING: not removing hydrogen atom without neighbors\n",
      " 47%|████▋     | 3758/7985 [00:17<00:18, 234.04it/s][15:09:29] WARNING: not removing hydrogen atom without neighbors\n",
      "[15:09:29] WARNING: not removing hydrogen atom without neighbors\n",
      " 50%|█████     | 4007/7985 [00:18<00:17, 233.02it/s][15:09:31] WARNING: not removing hydrogen atom without neighbors\n",
      "[15:09:31] WARNING: not removing hydrogen atom without neighbors\n",
      " 55%|█████▍    | 4367/7985 [00:21<00:16, 220.62it/s][15:09:33] WARNING: not removing hydrogen atom without neighbors\n",
      "[15:09:33] WARNING: not removing hydrogen atom without neighbors\n",
      " 58%|█████▊    | 4631/7985 [00:22<00:16, 207.14it/s][15:09:34] WARNING: not removing hydrogen atom without neighbors\n",
      "[15:09:34] WARNING: not removing hydrogen atom without neighbors\n",
      "[15:09:34] WARNING: not removing hydrogen atom without neighbors\n",
      "[15:09:34] WARNING: not removing hydrogen atom without neighbors\n",
      "[15:09:34] WARNING: not removing hydrogen atom without neighbors\n",
      "[15:09:34] WARNING: not removing hydrogen atom without neighbors\n",
      "[15:09:34] WARNING: not removing hydrogen atom without neighbors\n",
      "[15:09:34] WARNING: not removing hydrogen atom without neighbors\n",
      "[15:09:34] WARNING: not removing hydrogen atom without neighbors\n",
      "[15:09:34] WARNING: not removing hydrogen atom without neighbors\n",
      "[15:09:34] WARNING: not removing hydrogen atom without neighbors\n",
      "[15:09:34] WARNING: not removing hydrogen atom without neighbors\n",
      "[15:09:34] WARNING: not removing hydrogen atom without neighbors\n",
      "[15:09:34] WARNING: not removing hydrogen atom without neighbors\n",
      "[15:09:34] WARNING: not removing hydrogen atom without neighbors\n",
      "[15:09:34] WARNING: not removing hydrogen atom without neighbors\n",
      "[15:09:34] WARNING: not removing hydrogen atom without neighbors\n",
      "[15:09:34] WARNING: not removing hydrogen atom without neighbors\n",
      "[15:09:34] WARNING: not removing hydrogen atom without neighbors\n",
      "[15:09:34] WARNING: not removing hydrogen atom without neighbors\n",
      " 60%|██████    | 4791/7985 [00:23<00:15, 205.21it/s][15:09:35] WARNING: not removing hydrogen atom without neighbors\n",
      "[15:09:35] WARNING: not removing hydrogen atom without neighbors\n",
      "[15:09:35] WARNING: not removing hydrogen atom without neighbors\n",
      "[15:09:35] WARNING: not removing hydrogen atom without neighbors\n",
      " 65%|██████▌   | 5210/7985 [00:25<00:12, 217.61it/s][15:09:37] WARNING: not removing hydrogen atom without neighbors\n",
      "[15:09:37] WARNING: not removing hydrogen atom without neighbors\n",
      "[15:09:37] WARNING: not removing hydrogen atom without neighbors\n",
      "[15:09:37] WARNING: not removing hydrogen atom without neighbors\n",
      "[15:09:37] WARNING: not removing hydrogen atom without neighbors\n",
      "[15:09:37] WARNING: not removing hydrogen atom without neighbors\n",
      "[15:09:37] WARNING: not removing hydrogen atom without neighbors\n",
      "[15:09:37] WARNING: not removing hydrogen atom without neighbors\n",
      "[15:09:37] WARNING: not removing hydrogen atom without neighbors\n",
      " 68%|██████▊   | 5395/7985 [00:26<00:12, 215.52it/s][15:09:38] WARNING: not removing hydrogen atom without neighbors\n",
      "[15:09:38] WARNING: not removing hydrogen atom without neighbors\n",
      "[15:09:38] WARNING: not removing hydrogen atom without neighbors\n",
      "[15:09:38] WARNING: not removing hydrogen atom without neighbors\n",
      " 71%|███████   | 5631/7985 [00:27<00:11, 209.41it/s][15:09:39] WARNING: not removing hydrogen atom without neighbors\n",
      "[15:09:39] WARNING: not removing hydrogen atom without neighbors\n",
      " 71%|███████▏  | 5703/7985 [00:27<00:10, 219.64it/s][15:09:39] WARNING: not removing hydrogen atom without neighbors\n",
      "[15:09:39] WARNING: not removing hydrogen atom without neighbors\n",
      " 74%|███████▍  | 5947/7985 [00:28<00:09, 204.16it/s][15:09:40] WARNING: not removing hydrogen atom without neighbors\n",
      "[15:09:40] WARNING: not removing hydrogen atom without neighbors\n",
      "[15:09:40] WARNING: not removing hydrogen atom without neighbors\n",
      "[15:09:40] WARNING: not removing hydrogen atom without neighbors\n",
      "[15:09:40] WARNING: not removing hydrogen atom without neighbors\n",
      "[15:09:40] WARNING: not removing hydrogen atom without neighbors\n",
      "[15:09:40] WARNING: not removing hydrogen atom without neighbors\n",
      "[15:09:40] WARNING: not removing hydrogen atom without neighbors\n",
      "[15:09:40] WARNING: not removing hydrogen atom without neighbors\n",
      "[15:09:40] WARNING: not removing hydrogen atom without neighbors\n",
      "[15:09:40] WARNING: not removing hydrogen atom without neighbors\n",
      "[15:09:40] WARNING: not removing hydrogen atom without neighbors\n",
      "[15:09:40] WARNING: not removing hydrogen atom without neighbors\n",
      "[15:09:40] WARNING: not removing hydrogen atom without neighbors\n",
      "[15:09:40] WARNING: not removing hydrogen atom without neighbors\n",
      "[15:09:40] WARNING: not removing hydrogen atom without neighbors\n",
      "[15:09:40] WARNING: not removing hydrogen atom without neighbors\n",
      "[15:09:40] WARNING: not removing hydrogen atom without neighbors\n",
      " 76%|███████▌  | 6067/7985 [00:29<00:08, 226.79it/s][15:09:41] WARNING: not removing hydrogen atom without neighbors\n",
      "[15:09:41] WARNING: not removing hydrogen atom without neighbors\n",
      " 82%|████████▏ | 6560/7985 [00:31<00:08, 176.89it/s][15:09:43] WARNING: not removing hydrogen atom without neighbors\n",
      "[15:09:43] WARNING: not removing hydrogen atom without neighbors\n",
      " 83%|████████▎ | 6608/7985 [00:31<00:06, 203.01it/s][15:09:43] WARNING: not removing hydrogen atom without neighbors\n",
      "[15:09:43] WARNING: not removing hydrogen atom without neighbors\n",
      " 84%|████████▍ | 6747/7985 [00:32<00:05, 208.46it/s][15:09:44] WARNING: not removing hydrogen atom without neighbors\n",
      "[15:09:44] WARNING: not removing hydrogen atom without neighbors\n",
      "[15:09:44] WARNING: not removing hydrogen atom without neighbors\n",
      "[15:09:44] WARNING: not removing hydrogen atom without neighbors\n",
      " 87%|████████▋ | 6921/7985 [00:33<00:04, 222.48it/s][15:09:45] WARNING: not removing hydrogen atom without neighbors\n",
      "[15:09:45] WARNING: not removing hydrogen atom without neighbors\n",
      " 88%|████████▊ | 6995/7985 [00:33<00:04, 235.26it/s][15:09:45] WARNING: not removing hydrogen atom without neighbors\n",
      "[15:09:45] WARNING: not removing hydrogen atom without neighbors\n",
      " 91%|█████████ | 7251/7985 [00:34<00:03, 243.89it/s][15:09:46] WARNING: not removing hydrogen atom without neighbors\n",
      "[15:09:46] WARNING: not removing hydrogen atom without neighbors\n",
      " 94%|█████████▎| 7475/7985 [00:35<00:02, 211.01it/s][15:09:47] WARNING: not removing hydrogen atom without neighbors\n",
      "[15:09:47] WARNING: not removing hydrogen atom without neighbors\n",
      " 95%|█████████▍| 7574/7985 [00:35<00:01, 232.79it/s][15:09:48] WARNING: not removing hydrogen atom without neighbors\n",
      "[15:09:48] WARNING: not removing hydrogen atom without neighbors\n",
      "[15:09:48] WARNING: not removing hydrogen atom without neighbors\n",
      "[15:09:48] WARNING: not removing hydrogen atom without neighbors\n",
      " 96%|█████████▋| 7698/7985 [00:36<00:01, 232.31it/s][15:09:48] WARNING: not removing hydrogen atom without neighbors\n",
      "[15:09:48] WARNING: not removing hydrogen atom without neighbors\n",
      "100%|██████████| 7985/7985 [00:37<00:00, 210.74it/s]\n",
      "  4%|▎         | 70/1997 [00:00<00:09, 200.87it/s][15:09:50] WARNING: not removing hydrogen atom without neighbors\n",
      "[15:09:50] WARNING: not removing hydrogen atom without neighbors\n",
      " 26%|██▌       | 512/1997 [00:02<00:06, 231.33it/s][15:09:52] WARNING: not removing hydrogen atom without neighbors\n",
      "[15:09:52] WARNING: not removing hydrogen atom without neighbors\n",
      " 33%|███▎      | 658/1997 [00:03<00:06, 201.03it/s][15:09:53] WARNING: not removing hydrogen atom without neighbors\n",
      "[15:09:53] WARNING: not removing hydrogen atom without neighbors\n",
      " 43%|████▎     | 852/1997 [00:04<00:05, 202.98it/s][15:09:54] WARNING: not removing hydrogen atom without neighbors\n",
      "[15:09:54] WARNING: not removing hydrogen atom without neighbors\n",
      " 47%|████▋     | 944/1997 [00:04<00:05, 180.75it/s][15:09:55] WARNING: not removing hydrogen atom without neighbors\n",
      "[15:09:55] WARNING: not removing hydrogen atom without neighbors\n",
      " 56%|█████▌    | 1118/1997 [00:05<00:03, 233.40it/s][15:09:55] WARNING: not removing hydrogen atom without neighbors\n",
      "[15:09:55] WARNING: not removing hydrogen atom without neighbors\n",
      " 59%|█████▉    | 1187/1997 [00:05<00:04, 198.74it/s][15:09:56] WARNING: not removing hydrogen atom without neighbors\n",
      "[15:09:56] WARNING: not removing hydrogen atom without neighbors\n",
      "[15:09:56] WARNING: not removing hydrogen atom without neighbors\n",
      "[15:09:56] WARNING: not removing hydrogen atom without neighbors\n",
      " 66%|██████▌   | 1316/1997 [00:06<00:02, 243.92it/s][15:09:56] WARNING: not removing hydrogen atom without neighbors\n",
      "[15:09:56] WARNING: not removing hydrogen atom without neighbors\n",
      "[15:09:56] WARNING: not removing hydrogen atom without neighbors\n",
      "[15:09:56] WARNING: not removing hydrogen atom without neighbors\n",
      "[15:09:56] WARNING: not removing hydrogen atom without neighbors\n",
      "[15:09:56] WARNING: not removing hydrogen atom without neighbors\n",
      " 68%|██████▊   | 1363/1997 [00:06<00:03, 200.07it/s][15:09:56] WARNING: not removing hydrogen atom without neighbors\n",
      "[15:09:56] WARNING: not removing hydrogen atom without neighbors\n",
      " 78%|███████▊  | 1553/1997 [00:07<00:01, 227.23it/s][15:09:57] WARNING: not removing hydrogen atom without neighbors\n",
      "[15:09:57] WARNING: not removing hydrogen atom without neighbors\n",
      " 81%|████████▏ | 1623/1997 [00:07<00:01, 215.84it/s][15:09:58] WARNING: not removing hydrogen atom without neighbors\n",
      "[15:09:58] WARNING: not removing hydrogen atom without neighbors\n",
      " 84%|████████▍ | 1675/1997 [00:08<00:01, 234.18it/s][15:09:58] WARNING: not removing hydrogen atom without neighbors\n",
      "[15:09:58] WARNING: not removing hydrogen atom without neighbors\n",
      " 85%|████████▌ | 1699/1997 [00:08<00:01, 229.47it/s][15:09:58] WARNING: not removing hydrogen atom without neighbors\n",
      "[15:09:58] WARNING: not removing hydrogen atom without neighbors\n",
      "[15:09:58] WARNING: not removing hydrogen atom without neighbors\n",
      "[15:09:58] WARNING: not removing hydrogen atom without neighbors\n",
      " 90%|████████▉ | 1793/1997 [00:08<00:00, 215.95it/s][15:09:58] WARNING: not removing hydrogen atom without neighbors\n",
      "[15:09:58] WARNING: not removing hydrogen atom without neighbors\n",
      " 99%|█████████▉| 1975/1997 [00:09<00:00, 231.46it/s][15:09:59] WARNING: not removing hydrogen atom without neighbors\n",
      "[15:09:59] WARNING: not removing hydrogen atom without neighbors\n",
      "100%|██████████| 1997/1997 [00:09<00:00, 210.84it/s]\n"
     ]
    }
   ],
   "source": [
    "os.makedirs('./dataset', exist_ok=True)\n",
    "if os.path.isfile('./dataset/train_rddesc_arr.npy'):\n",
    "    train_rddesc_arr = np.load('./dataset/train_rddesc_arr.npy')\n",
    "    test_rddesc_arr = np.load('./dataset/test_rddesc_arr.npy')\n",
    "\n",
    "else:\n",
    "    train_rddesc_arr = RDkit_descriptors_2D(train_mol_list, desc_list)\n",
    "    test_rddesc_arr = RDkit_descriptors_2D(test_mol_list, desc_list)\n",
    "    np.save('./dataset/train_rddesc_arr.npy', train_rddesc_arr)\n",
    "    np.save('./dataset/test_rddesc_arr.npy', test_rddesc_arr)"
   ]
  },
  {
   "cell_type": "code",
   "execution_count": 19,
   "metadata": {},
   "outputs": [
    {
     "name": "stdout",
     "output_type": "stream",
     "text": [
      "(7985, 208) (1997, 208)\n"
     ]
    }
   ],
   "source": [
    "print(train_rddesc_arr.shape, test_rddesc_arr.shape)"
   ]
  },
  {
   "cell_type": "code",
   "execution_count": 20,
   "metadata": {},
   "outputs": [
    {
     "data": {
      "text/plain": [
       "array([ 2.29217327,  8.62962963, 12.12553965, ..., 11.97305556,\n",
       "        9.72652778,  5.0030135 ])"
      ]
     },
     "execution_count": 20,
     "metadata": {},
     "output_type": "execute_result"
    }
   ],
   "source": [
    "train_rddesc_arr[:, 0]"
   ]
  },
  {
   "cell_type": "code",
   "execution_count": 21,
   "metadata": {},
   "outputs": [
    {
     "data": {
      "text/plain": [
       "(array([116.,   0.,   0.,   1.,   7.,  13., 262.,  27.,  22.,  63.,  71.,\n",
       "         68.,  83.,  69., 161., 206., 207., 312.,  27.,  11.,  18.,  13.,\n",
       "         35., 111., 227., 224., 216., 205., 334., 646., 612., 610., 517.,\n",
       "        559., 589., 501., 335., 169., 134.,  88.,  34.,  27.,  18.,  10.,\n",
       "          6.,   0.,   0.,   0.,  12.,   9.]),\n",
       " array([ 0.        ,  0.34885306,  0.69770613,  1.04655919,  1.39541226,\n",
       "         1.74426532,  2.09311839,  2.44197145,  2.79082452,  3.13967758,\n",
       "         3.48853065,  3.83738371,  4.18623677,  4.53508984,  4.8839429 ,\n",
       "         5.23279597,  5.58164903,  5.9305021 ,  6.27935516,  6.62820823,\n",
       "         6.97706129,  7.32591436,  7.67476742,  8.02362048,  8.37247355,\n",
       "         8.72132661,  9.07017968,  9.41903274,  9.76788581, 10.11673887,\n",
       "        10.46559194, 10.814445  , 11.16329806, 11.51215113, 11.86100419,\n",
       "        12.20985726, 12.55871032, 12.90756339, 13.25641645, 13.60526952,\n",
       "        13.95412258, 14.30297565, 14.65182871, 15.00068177, 15.34953484,\n",
       "        15.6983879 , 16.04724097, 16.39609403, 16.7449471 , 17.09380016,\n",
       "        17.44265323]),\n",
       " <BarContainer object of 50 artists>)"
      ]
     },
     "execution_count": 21,
     "metadata": {},
     "output_type": "execute_result"
    },
    {
     "data": {
      "image/png": "[encoded data removed]",
      "text/plain": [
       "<Figure size 640x480 with 1 Axes>"
      ]
     },
     "metadata": {},
     "output_type": "display_data"
    }
   ],
   "source": [
    "plt.hist(train_rddesc_arr[:, 0], bins=50)"
   ]
  },
  {
   "cell_type": "code",
   "execution_count": 22,
   "metadata": {},
   "outputs": [
    {
     "name": "stderr",
     "output_type": "stream",
     "text": [
      "/home/seoin-ub/miniconda3/envs/cheml/lib/python3.8/site-packages/sklearn/utils/extmath.py:1066: RuntimeWarning: overflow encountered in square\n",
      "  temp **= 2\n"
     ]
    }
   ],
   "source": [
    "## feature scaling\n",
    "scaler = StandardScaler()\n",
    "scale_fit = scaler.fit(train_rddesc_arr)\n",
    "tr_scaled = scaler.transform(train_rddesc_arr)\n",
    "te_scaled = scaler.transform(test_rddesc_arr)\n"
   ]
  },
  {
   "cell_type": "code",
   "execution_count": 23,
   "metadata": {},
   "outputs": [
    {
     "data": {
      "text/plain": [
       "array([-2.3138493 , -0.31459957,  0.78823992, ...,  0.74013643,\n",
       "        0.0314341 , -1.45867235])"
      ]
     },
     "execution_count": 23,
     "metadata": {},
     "output_type": "execute_result"
    }
   ],
   "source": [
    "tr_scaled[:, 0]"
   ]
  },
  {
   "cell_type": "code",
   "execution_count": 24,
   "metadata": {},
   "outputs": [
    {
     "data": {
      "text/plain": [
       "(array([116.,   0.,   0.,   1.,   7.,  13., 262.,  27.,  22.,  63.,  71.,\n",
       "         68.,  83.,  69., 161., 206., 207., 312.,  27.,  11.,  18.,  13.,\n",
       "         35., 111., 227., 224., 216., 205., 334., 646., 612., 610., 517.,\n",
       "        559., 589., 501., 335., 169., 134.,  88.,  34.,  27.,  18.,  10.,\n",
       "          6.,   0.,   0.,   0.,  12.,   9.]),\n",
       " array([-3.03695121, -2.92690005, -2.8168489 , -2.70679774, -2.59674658,\n",
       "        -2.48669543, -2.37664427, -2.26659312, -2.15654196, -2.04649081,\n",
       "        -1.93643965, -1.8263885 , -1.71633734, -1.60628619, -1.49623503,\n",
       "        -1.38618388, -1.27613272, -1.16608157, -1.05603041, -0.94597926,\n",
       "        -0.8359281 , -0.72587695, -0.61582579, -0.50577464, -0.39572348,\n",
       "        -0.28567232, -0.17562117, -0.06557001,  0.04448114,  0.1545323 ,\n",
       "         0.26458345,  0.37463461,  0.48468576,  0.59473692,  0.70478807,\n",
       "         0.81483923,  0.92489038,  1.03494154,  1.14499269,  1.25504385,\n",
       "         1.365095  ,  1.47514616,  1.58519731,  1.69524847,  1.80529962,\n",
       "         1.91535078,  2.02540193,  2.13545309,  2.24550425,  2.3555554 ,\n",
       "         2.46560656]),\n",
       " <BarContainer object of 50 artists>)"
      ]
     },
     "execution_count": 24,
     "metadata": {},
     "output_type": "execute_result"
    },
    {
     "data": {
      "image/png": "[encoded data removed]",
      "text/plain": [
       "<Figure size 640x480 with 1 Axes>"
      ]
     },
     "metadata": {},
     "output_type": "display_data"
    }
   ],
   "source": [
    "plt.hist(tr_scaled[:, 0], bins=50)"
   ]
  },
  {
   "cell_type": "code",
   "execution_count": 25,
   "metadata": {},
   "outputs": [],
   "source": [
    "def fill_med(df):\n",
    "    df = df.replace('na', np.nan) # alvadesc 결과에는 결측치가 문자열 'na'로 저장이 된다. np.nan 즉 null 값으로 변경\n",
    "    df = df.astype('float32')     # 문자열타입으로 저장된 숫자를 실수타입으로 벼환\n",
    "    df = df.replace([np.inf, -np.inf], np.nan)\n",
    "    df = df.fillna(df.median()) # 결측치를 칼럼의 median으로 채움\n",
    "    df = df.dropna(axis=1)\n",
    "    return df"
   ]
  },
  {
   "cell_type": "code",
   "execution_count": 26,
   "metadata": {},
   "outputs": [
    {
     "name": "stderr",
     "output_type": "stream",
     "text": [
      "/home/seoin-ub/miniconda3/envs/cheml/lib/python3.8/site-packages/pandas/core/dtypes/astype.py:138: RuntimeWarning: overflow encountered in cast\n",
      "  return arr.astype(dtype, copy=True)\n",
      "/home/seoin-ub/miniconda3/envs/cheml/lib/python3.8/site-packages/pandas/core/dtypes/astype.py:138: RuntimeWarning: overflow encountered in cast\n",
      "  return arr.astype(dtype, copy=True)\n"
     ]
    }
   ],
   "source": [
    "df_tr_scaled = pd.DataFrame(tr_scaled, columns=desc_list)\n",
    "df_te_scaled = pd.DataFrame(te_scaled, columns=desc_list)\n",
    "df_tr_y = pd.DataFrame(train_data.Solubility.values, columns=[\"Solubility\"])\n",
    "df_te_y = pd.DataFrame(test_data.Solubility.values, columns=[\"Solubility\"])\n",
    "\n",
    "df_tr_tot = pd.concat([df_tr_scaled, df_tr_y], axis=1)\n",
    "df_te_tot = pd.concat([df_te_scaled, df_te_y], axis=1)\n",
    "\n",
    "df_tr_tot = fill_med(df_tr_tot)\n",
    "df_te_tot = fill_med(df_te_tot)"
   ]
  },
  {
   "cell_type": "code",
   "execution_count": 27,
   "metadata": {},
   "outputs": [],
   "source": [
    "tr_scaled = df_tr_tot.iloc[:, :-1].values\n",
    "te_scaled = df_te_tot.iloc[:, :-1].values\n"
   ]
  },
  {
   "cell_type": "code",
   "execution_count": null,
   "metadata": {},
   "outputs": [],
   "source": []
  },
  {
   "cell_type": "code",
   "execution_count": 28,
   "metadata": {},
   "outputs": [],
   "source": [
    "clf_lr = LinearRegression()\n",
    "clf_svr = SVR()\n",
    "clf_rf = RandomForestRegressor()"
   ]
  },
  {
   "cell_type": "code",
   "execution_count": 29,
   "metadata": {},
   "outputs": [
    {
     "name": "stdout",
     "output_type": "stream",
     "text": [
      "CPU times: user 89.5 ms, sys: 130 ms, total: 219 ms\n",
      "Wall time: 35 ms\n",
      "CPU times: user 3.19 s, sys: 596 ms, total: 3.78 s\n",
      "Wall time: 3.04 s\n",
      "CPU times: user 30.5 s, sys: 5.62 ms, total: 30.5 s\n",
      "Wall time: 30.5 s\n"
     ]
    },
    {
     "data": {
      "text/html": [
       "<style>#sk-container-id-1 {color: black;background-color: white;}#sk-container-id-1 pre{padding: 0;}#sk-container-id-1 div.sk-toggleable {background-color: white;}#sk-container-id-1 label.sk-toggleable__label {cursor: pointer;display: block;width: 100%;margin-bottom: 0;padding: 0.3em;box-sizing: border-box;text-align: center;}#sk-container-id-1 label.sk-toggleable__label-arrow:before {content: \"▸\";float: left;margin-right: 0.25em;color: #696969;}#sk-container-id-1 label.sk-toggleable__label-arrow:hover:before {color: black;}#sk-container-id-1 div.sk-estimator:hover label.sk-toggleable__label-arrow:before {color: black;}#sk-container-id-1 div.sk-toggleable__content {max-height: 0;max-width: 0;overflow: hidden;text-align: left;background-color: #f0f8ff;}#sk-container-id-1 div.sk-toggleable__content pre {margin: 0.2em;color: black;border-radius: 0.25em;background-color: #f0f8ff;}#sk-container-id-1 input.sk-toggleable__control:checked~div.sk-toggleable__content {max-height: 200px;max-width: 100%;overflow: auto;}#sk-container-id-1 input.sk-toggleable__control:checked~label.sk-toggleable__label-arrow:before {content: \"▾\";}#sk-container-id-1 div.sk-estimator input.sk-toggleable__control:checked~label.sk-toggleable__label {background-color: #d4ebff;}#sk-container-id-1 div.sk-label input.sk-toggleable__control:checked~label.sk-toggleable__label {background-color: #d4ebff;}#sk-container-id-1 input.sk-hidden--visually {border: 0;clip: rect(1px 1px 1px 1px);clip: rect(1px, 1px, 1px, 1px);height: 1px;margin: -1px;overflow: hidden;padding: 0;position: absolute;width: 1px;}#sk-container-id-1 div.sk-estimator {font-family: monospace;background-color: #f0f8ff;border: 1px dotted black;border-radius: 0.25em;box-sizing: border-box;margin-bottom: 0.5em;}#sk-container-id-1 div.sk-estimator:hover {background-color: #d4ebff;}#sk-container-id-1 div.sk-parallel-item::after {content: \"\";width: 100%;border-bottom: 1px solid gray;flex-grow: 1;}#sk-container-id-1 div.sk-label:hover label.sk-toggleable__label {background-color: #d4ebff;}#sk-container-id-1 div.sk-serial::before {content: \"\";position: absolute;border-left: 1px solid gray;box-sizing: border-box;top: 0;bottom: 0;left: 50%;z-index: 0;}#sk-container-id-1 div.sk-serial {display: flex;flex-direction: column;align-items: center;background-color: white;padding-right: 0.2em;padding-left: 0.2em;position: relative;}#sk-container-id-1 div.sk-item {position: relative;z-index: 1;}#sk-container-id-1 div.sk-parallel {display: flex;align-items: stretch;justify-content: center;background-color: white;position: relative;}#sk-container-id-1 div.sk-item::before, #sk-container-id-1 div.sk-parallel-item::before {content: \"\";position: absolute;border-left: 1px solid gray;box-sizing: border-box;top: 0;bottom: 0;left: 50%;z-index: -1;}#sk-container-id-1 div.sk-parallel-item {display: flex;flex-direction: column;z-index: 1;position: relative;background-color: white;}#sk-container-id-1 div.sk-parallel-item:first-child::after {align-self: flex-end;width: 50%;}#sk-container-id-1 div.sk-parallel-item:last-child::after {align-self: flex-start;width: 50%;}#sk-container-id-1 div.sk-parallel-item:only-child::after {width: 0;}#sk-container-id-1 div.sk-dashed-wrapped {border: 1px dashed gray;margin: 0 0.4em 0.5em 0.4em;box-sizing: border-box;padding-bottom: 0.4em;background-color: white;}#sk-container-id-1 div.sk-label label {font-family: monospace;font-weight: bold;display: inline-block;line-height: 1.2em;}#sk-container-id-1 div.sk-label-container {text-align: center;}#sk-container-id-1 div.sk-container {/* jupyter's `normalize.less` sets `[hidden] { display: none; }` but bootstrap.min.css set `[hidden] { display: none !important; }` so we also need the `!important` here to be able to override the default hidden behavior on the sphinx rendered scikit-learn.org. See: https://github.com/scikit-learn/scikit-learn/issues/21755 */display: inline-block !important;position: relative;}#sk-container-id-1 div.sk-text-repr-fallback {display: none;}</style><div id=\"sk-container-id-1\" class=\"sk-top-container\"><div class=\"sk-text-repr-fallback\"><pre>RandomForestRegressor()</pre><b>In a Jupyter environment, please rerun this cell to show the HTML representation or trust the notebook. <br />On GitHub, the HTML representation is unable to render, please try loading this page with nbviewer.org.</b></div><div class=\"sk-container\" hidden><div class=\"sk-item\"><div class=\"sk-estimator sk-toggleable\"><input class=\"sk-toggleable__control sk-hidden--visually\" id=\"sk-estimator-id-1\" type=\"checkbox\" checked><label for=\"sk-estimator-id-1\" class=\"sk-toggleable__label sk-toggleable__label-arrow\">RandomForestRegressor</label><div class=\"sk-toggleable__content\"><pre>RandomForestRegressor()</pre></div></div></div></div></div>"
      ],
      "text/plain": [
       "RandomForestRegressor()"
      ]
     },
     "execution_count": 29,
     "metadata": {},
     "output_type": "execute_result"
    }
   ],
   "source": [
    "%time clf_lr.fit(tr_scaled, train_data.Solubility)\n",
    "%time clf_svr.fit(tr_scaled, train_data.Solubility)\n",
    "%time clf_rf.fit(tr_scaled, train_data.Solubility)"
   ]
  },
  {
   "cell_type": "code",
   "execution_count": null,
   "metadata": {},
   "outputs": [],
   "source": []
  },
  {
   "cell_type": "code",
   "execution_count": null,
   "metadata": {},
   "outputs": [],
   "source": []
  }
 ],
 "metadata": {
  "kernelspec": {
   "display_name": "cheml",
   "language": "python",
   "name": "python3"
  },
  "language_info": {
   "codemirror_mode": {
    "name": "ipython",
    "version": 3
   },
   "file_extension": ".py",
   "mimetype": "text/x-python",
   "name": "python",
   "nbconvert_exporter": "python",
   "pygments_lexer": "ipython3",
   "version": "3.8.16"
  },
  "orig_nbformat": 4
 },
 "nbformat": 4,
 "nbformat_minor": 2
}

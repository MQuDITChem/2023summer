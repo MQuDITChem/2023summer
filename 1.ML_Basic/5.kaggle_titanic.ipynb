{
 "cells": [
  {
   "attachments": {},
   "cell_type": "markdown",
   "metadata": {},
   "source": [
    "# Goal:\n",
    "- Kaggle Titanic 문제를 풀어보고, 제출해보자.\n",
    "- Kaggle의 대표적인 문제 titanic 생존자 여부 예측 (binary classfication)\n",
    "- feature engineering, scikit-learn 활용, accuracy matrix 공부\n",
    "\n",
    "### link:\n",
    "#1 : https://ashhyun.github.io/kaggle/Titanic_1/  \n",
    "#2 : https://ashhyun.github.io/kaggle/Titanic_2/  \n",
    "#3 : https://ashhyun.github.io/kaggle/Titanic_3/  "
   ]
  },
  {
   "attachments": {},
   "cell_type": "markdown",
   "metadata": {},
   "source": []
  }
 ],
 "metadata": {
  "language_info": {
   "name": "python"
  },
  "orig_nbformat": 4
 },
 "nbformat": 4,
 "nbformat_minor": 2
}
